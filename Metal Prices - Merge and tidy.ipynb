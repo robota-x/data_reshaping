{
 "cells": [
  {
   "cell_type": "markdown",
   "metadata": {},
   "source": [
    "# Metal Prices - merge and tidy"
   ]
  },
  {
   "cell_type": "code",
   "execution_count": 1,
   "metadata": {},
   "outputs": [],
   "source": [
    "import pandas as pd\n",
    "\n",
    "from datetime import datetime\n",
    "from glob import glob"
   ]
  },
  {
   "cell_type": "markdown",
   "metadata": {},
   "source": [
    "## Define helper functions"
   ]
  },
  {
   "cell_type": "code",
   "execution_count": 2,
   "metadata": {},
   "outputs": [],
   "source": [
    "def read_csv_data(base_path):\n",
    "    return [\n",
    "        pd.read_csv(file, header=[0,1,2,3,4]) \n",
    "        for file \n",
    "        in glob(f'{base_path}/*.csv')\n",
    "    ]"
   ]
  },
  {
   "cell_type": "code",
   "execution_count": 3,
   "metadata": {},
   "outputs": [],
   "source": [
    "def reshape_dataframe(df):\n",
    "    return (\n",
    "        df\n",
    "        .drop('Lease Rates', 1)\n",
    "        .melt(\n",
    "            id_vars=[('Market', 'Metal/Currency', 'Priced In', 'Price Type', 'Summary')], \n",
    "            var_name=['market', 'metal', 'currency', 'type','level'], \n",
    "            value_name='price'\n",
    "        )\n",
    "        .rename({('Market', 'Metal/Currency', 'Priced In', 'Price Type', 'Summary'): 'Date'}, axis=1)\n",
    "        .dropna()\n",
    "    )"
   ]
  },
  {
   "cell_type": "markdown",
   "metadata": {},
   "source": [
    "## Import all files and process them"
   ]
  },
  {
   "cell_type": "code",
   "execution_count": 4,
   "metadata": {},
   "outputs": [
    {
     "name": "stdout",
     "output_type": "stream",
     "text": [
      "Read 4 files\n",
      "\n",
      "       Date           market metal currency type level   price\n",
      "3  04/01/16  Perth Mint Spot  Plat      USD  Bid  High  878.34\n",
      "4  05/01/16  Perth Mint Spot  Plat      USD  Bid  High  880.90\n",
      "5  06/01/16  Perth Mint Spot  Plat      USD  Bid  High  882.10\n",
      "6  07/01/16  Perth Mint Spot  Plat      USD  Bid  High  872.85\n",
      "7  08/01/16  Perth Mint Spot  Plat      USD  Bid  High  868.80 \n",
      "\n",
      "       Date           market metal currency type level   price\n",
      "3  04/01/16  Perth Mint Spot  Pald      USD  Bid  High  552.00\n",
      "4  05/01/16  Perth Mint Spot  Pald      USD  Bid  High  535.95\n",
      "5  06/01/16  Perth Mint Spot  Pald      USD  Bid  High  526.50\n",
      "6  07/01/16  Perth Mint Spot  Pald      USD  Bid  High  499.35\n",
      "7  08/01/16  Perth Mint Spot  Pald      USD  Bid  High  489.50 \n",
      "\n",
      "       Date           market metal currency type level  price\n",
      "3  04/01/16  Perth Mint Spot  Silv      USD  Bid  High  13.71\n",
      "4  05/01/16  Perth Mint Spot  Silv      USD  Bid  High  13.74\n",
      "5  06/01/16  Perth Mint Spot  Silv      USD  Bid  High  13.76\n",
      "6  07/01/16  Perth Mint Spot  Silv      USD  Bid  High  13.90\n",
      "7  08/01/16  Perth Mint Spot  Silv      USD  Bid  High  14.06 \n",
      "\n",
      "       Date           market metal currency type level    price\n",
      "3  04/01/16  Perth Mint Spot  Gold      USD  Bid  High  1068.46\n",
      "4  05/01/16  Perth Mint Spot  Gold      USD  Bid  High  1074.19\n",
      "5  06/01/16  Perth Mint Spot  Gold      USD  Bid  High  1080.35\n",
      "6  07/01/16  Perth Mint Spot  Gold      USD  Bid  High  1098.50\n",
      "7  08/01/16  Perth Mint Spot  Gold      USD  Bid  High  1105.30 \n",
      "\n"
     ]
    },
    {
     "name": "stderr",
     "output_type": "stream",
     "text": [
      "/home/robota/propro/metal/env/lib/python3.8/site-packages/pandas/core/generic.py:3936: PerformanceWarning: dropping on a non-lexsorted multi-index without a level parameter may impact performance.\n",
      "  obj = obj._drop_axis(labels, axis, level=level, errors=errors)\n"
     ]
    }
   ],
   "source": [
    "df_list = read_csv_data('./data')\n",
    "print(f'Read {len(df_list)} files\\n')\n",
    "\n",
    "melted_dfs = [reshape_dataframe(df) for df in df_list]\n",
    "for df in melted_dfs:\n",
    "    print(df.head(), '\\n')"
   ]
  },
  {
   "cell_type": "markdown",
   "metadata": {},
   "source": [
    "## Concat and save"
   ]
  },
  {
   "cell_type": "code",
   "execution_count": 5,
   "metadata": {},
   "outputs": [],
   "source": [
    "merged_df = pd.concat(melted_dfs)\n",
    "merged_df.to_csv(f'output/{datetime.utcnow().isoformat()}.csv', index=False)"
   ]
  },
  {
   "cell_type": "code",
   "execution_count": null,
   "metadata": {},
   "outputs": [],
   "source": []
  }
 ],
 "metadata": {
  "kernelspec": {
   "display_name": "Python 3",
   "language": "python",
   "name": "python3"
  },
  "language_info": {
   "codemirror_mode": {
    "name": "ipython",
    "version": 3
   },
   "file_extension": ".py",
   "mimetype": "text/x-python",
   "name": "python",
   "nbconvert_exporter": "python",
   "pygments_lexer": "ipython3",
   "version": "3.8.1"
  }
 },
 "nbformat": 4,
 "nbformat_minor": 4
}
